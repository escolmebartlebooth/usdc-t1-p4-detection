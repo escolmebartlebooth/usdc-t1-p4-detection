{
 "cells": [
  {
   "cell_type": "code",
   "execution_count": 5,
   "metadata": {},
   "outputs": [],
   "source": [
    "import numpy as np\n",
    "import collections\n",
    "import random"
   ]
  },
  {
   "cell_type": "code",
   "execution_count": 6,
   "metadata": {},
   "outputs": [],
   "source": [
    "n = collections.deque(maxlen=5)"
   ]
  },
  {
   "cell_type": "code",
   "execution_count": 8,
   "metadata": {},
   "outputs": [
    {
     "name": "stdout",
     "output_type": "stream",
     "text": [
      "deque([[8, 0, 4]], maxlen=5)\n",
      "deque([[8, 0, 4], [6, 0, 0]], maxlen=5)\n",
      "deque([[8, 0, 4], [6, 0, 0], [0, 6, 6]], maxlen=5)\n",
      "deque([[8, 0, 4], [6, 0, 0], [0, 6, 6], [1, 9, 9]], maxlen=5)\n",
      "deque([[8, 0, 4], [6, 0, 0], [0, 6, 6], [1, 9, 9], [6, 2, 4]], maxlen=5)\n",
      "deque([[6, 0, 0], [0, 6, 6], [1, 9, 9], [6, 2, 4], [2, 0, 3]], maxlen=5)\n",
      "deque([[0, 6, 6], [1, 9, 9], [6, 2, 4], [2, 0, 3], [3, 4, 9]], maxlen=5)\n",
      "deque([[1, 9, 9], [6, 2, 4], [2, 0, 3], [3, 4, 9], [3, 1, 7]], maxlen=5)\n",
      "deque([[6, 2, 4], [2, 0, 3], [3, 4, 9], [3, 1, 7], [1, 3, 4]], maxlen=5)\n",
      "deque([[2, 0, 3], [3, 4, 9], [3, 1, 7], [1, 3, 4], [4, 6, 3]], maxlen=5)\n"
     ]
    }
   ],
   "source": [
    "for i in range(10):\n",
    "    arr = []\n",
    "    for x in range(3):\n",
    "        arr.append(random.randrange(0,10))\n",
    "    n.append(arr)\n",
    "    print(n)"
   ]
  },
  {
   "cell_type": "code",
   "execution_count": 9,
   "metadata": {},
   "outputs": [
    {
     "data": {
      "text/plain": [
       "3.5333333333333332"
      ]
     },
     "execution_count": 9,
     "metadata": {},
     "output_type": "execute_result"
    }
   ],
   "source": [
    "np.mean(n)"
   ]
  },
  {
   "cell_type": "code",
   "execution_count": 13,
   "metadata": {},
   "outputs": [],
   "source": [
    "x = np.mean(n, axis=0)"
   ]
  },
  {
   "cell_type": "code",
   "execution_count": 14,
   "metadata": {},
   "outputs": [
    {
     "data": {
      "text/plain": [
       "array([ 2.6,  2.8,  5.2])"
      ]
     },
     "execution_count": 14,
     "metadata": {},
     "output_type": "execute_result"
    }
   ],
   "source": [
    "x"
   ]
  },
  {
   "cell_type": "code",
   "execution_count": 15,
   "metadata": {},
   "outputs": [],
   "source": [
    "z = x.copy()"
   ]
  },
  {
   "cell_type": "code",
   "execution_count": 17,
   "metadata": {},
   "outputs": [],
   "source": [
    "z = np.add(z, 4)"
   ]
  },
  {
   "cell_type": "code",
   "execution_count": 18,
   "metadata": {},
   "outputs": [
    {
     "data": {
      "text/plain": [
       "array([ 6.6,  6.8,  9.2])"
      ]
     },
     "execution_count": 18,
     "metadata": {},
     "output_type": "execute_result"
    }
   ],
   "source": [
    "z"
   ]
  },
  {
   "cell_type": "code",
   "execution_count": 19,
   "metadata": {},
   "outputs": [
    {
     "data": {
      "text/plain": [
       "array([-4., -4., -4.])"
      ]
     },
     "execution_count": 19,
     "metadata": {},
     "output_type": "execute_result"
    }
   ],
   "source": [
    "a = np.subtract(x,z)\n",
    "a"
   ]
  },
  {
   "cell_type": "code",
   "execution_count": 20,
   "metadata": {},
   "outputs": [
    {
     "data": {
      "text/plain": [
       "array([ 4.,  4.,  4.])"
      ]
     },
     "execution_count": 20,
     "metadata": {},
     "output_type": "execute_result"
    }
   ],
   "source": [
    "np.absolute(a)"
   ]
  },
  {
   "cell_type": "code",
   "execution_count": null,
   "metadata": {},
   "outputs": [],
   "source": []
  }
 ],
 "metadata": {
  "kernelspec": {
   "display_name": "Python 3",
   "language": "python",
   "name": "python3"
  },
  "language_info": {
   "codemirror_mode": {
    "name": "ipython",
    "version": 3
   },
   "file_extension": ".py",
   "mimetype": "text/x-python",
   "name": "python",
   "nbconvert_exporter": "python",
   "pygments_lexer": "ipython3",
   "version": "3.5.2"
  },
  "widgets": {
   "state": {},
   "version": "1.1.2"
  }
 },
 "nbformat": 4,
 "nbformat_minor": 2
}
